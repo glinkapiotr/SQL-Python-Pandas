{
  "nbformat": 4,
  "nbformat_minor": 0,
  "metadata": {
    "colab": {
      "name": "Praca domowa moduł3.ipynb",
      "provenance": [],
      "collapsed_sections": []
    },
    "kernelspec": {
      "name": "python3",
      "display_name": "Python 3"
    }
  },
  "cells": [
    {
      "cell_type": "markdown",
      "metadata": {
        "id": "OE8V528-EIjp",
        "colab_type": "text"
      },
      "source": [
        "# Modul 3 - Praca domowa - Python"
      ]
    },
    {
      "cell_type": "markdown",
      "metadata": {
        "id": "WDVcAsVjGrUD",
        "colab_type": "text"
      },
      "source": [
        "Zwykle istnieje wiele sposobów, żeby rozwiązać zadanie w Python. Także czasami warto spróbować opracować kod na 1-2 sposoby :)"
      ]
    },
    {
      "cell_type": "markdown",
      "metadata": {
        "id": "CreP0LsfEBiC",
        "colab_type": "text"
      },
      "source": [
        "## Zadanie - 1"
      ]
    },
    {
      "cell_type": "markdown",
      "metadata": {
        "id": "0Xwa10oADLFd",
        "colab_type": "text"
      },
      "source": [
        "Zadanie opiera się na danych z informacją o wyjściu statków z portu Gdańsk w okresie 2005-06.2020 ([Więcej o Danych](https://bit.ly/30HkRgS)).<br> Kroki:\n",
        "* Wczytać zbiór danych w formacie `.csv`\n",
        "* Wyświetlić listę kolumn ze zbioru\n",
        "* Wyświetlić pierwsze 10 wierszy z wczytanego zbioru danych<br>\n",
        "<br>![statek](https://media.giphy.com/media/o0eOCNkn7cSD6/giphy.gif)<br>\n",
        "---\n",
        "Wskazówka: uważaj na kodowanie plików. Zalecane wykorzystywanie `UTF-8`. Plik źródłowy ma błędne kodowanie, dlatego został ponownie zapisany w formacie `.csv` z separatorem \";\"."
      ]
    },
    {
      "cell_type": "markdown",
      "metadata": {
        "id": "IbWL2egGWjkh",
        "colab_type": "text"
      },
      "source": [
        "---"
      ]
    },
    {
      "cell_type": "markdown",
      "metadata": {
        "id": "sP1xprQfWpM-",
        "colab_type": "text"
      },
      "source": [
        "Wczytaj dane w formacie `.csv` z separatorem `;` wykorzystując link: <br>https://akademiadatascience.s3-eu-west-1.amazonaws.com/materialy/sds/modul3/statki.csv"
      ]
    },
    {
      "cell_type": "code",
      "metadata": {
        "id": "KDIlLv2xWrIF",
        "colab_type": "code",
        "colab": {
          "base_uri": "https://localhost:8080/",
          "height": 554
        },
        "outputId": "5cdcd2db-9dae-4c46-de5a-93900a3d20c6"
      },
      "source": [
        "import pandas as pd\n",
        "import seaborn as sns\n",
        "import matplotlib.pyplot as plt\n",
        "\n",
        "URL = \"https://akademiadatascience.s3-eu-west-1.amazonaws.com/materialy/sds/modul3/statki.csv\"\n",
        "df= pd.read_csv(URL, sep =\";\")\n",
        "df.head(10)"
      ],
      "execution_count": null,
      "outputs": [
        {
          "output_type": "execute_result",
          "data": {
            "text/html": [
              "<div>\n",
              "<style scoped>\n",
              "    .dataframe tbody tr th:only-of-type {\n",
              "        vertical-align: middle;\n",
              "    }\n",
              "\n",
              "    .dataframe tbody tr th {\n",
              "        vertical-align: top;\n",
              "    }\n",
              "\n",
              "    .dataframe thead th {\n",
              "        text-align: right;\n",
              "    }\n",
              "</style>\n",
              "<table border=\"1\" class=\"dataframe\">\n",
              "  <thead>\n",
              "    <tr style=\"text-align: right;\">\n",
              "      <th></th>\n",
              "      <th>Kod portu \\n</th>\n",
              "      <th>Data wyjścia (rrrr-mm-dd)</th>\n",
              "      <th>Godzina wyjścia\\n(hh:mm)</th>\n",
              "      <th>Kod portu, \\nprzeznaczenia</th>\n",
              "      <th>Nazwa statku</th>\n",
              "      <th>Bandera</th>\n",
              "      <th>nr IMO</th>\n",
              "      <th>Sygnał wywoławczy</th>\n",
              "      <th>Pojemność brutto \\n(tony)</th>\n",
              "      <th>Długość (metry)</th>\n",
              "      <th>Agent</th>\n",
              "      <th>Nabrzeże (miejsce zacumowania)</th>\n",
              "    </tr>\n",
              "  </thead>\n",
              "  <tbody>\n",
              "    <tr>\n",
              "      <th>0</th>\n",
              "      <td>PLGDN</td>\n",
              "      <td>04.01.2005</td>\n",
              "      <td>12:00:00</td>\n",
              "      <td>RULED</td>\n",
              "      <td>PETSAMO</td>\n",
              "      <td>Finland</td>\n",
              "      <td>7517545</td>\n",
              "      <td>OIZH</td>\n",
              "      <td>2356</td>\n",
              "      <td>84.00</td>\n",
              "      <td>Cargo Service Co. Ltd Gdańsk</td>\n",
              "      <td>NAB. SZCZECIŃSKIE GTK</td>\n",
              "    </tr>\n",
              "    <tr>\n",
              "      <th>1</th>\n",
              "      <td>PLGDN</td>\n",
              "      <td>04.01.2005</td>\n",
              "      <td>09:00:00</td>\n",
              "      <td>DKCPH</td>\n",
              "      <td>TANGO</td>\n",
              "      <td>Romania</td>\n",
              "      <td>8306589</td>\n",
              "      <td>YQOA</td>\n",
              "      <td>9983</td>\n",
              "      <td>140.12</td>\n",
              "      <td>DFDS SEAWAYS Sp. z o. o.</td>\n",
              "      <td>WESTERPLATTE</td>\n",
              "    </tr>\n",
              "    <tr>\n",
              "      <th>2</th>\n",
              "      <td>PLGDN</td>\n",
              "      <td>05.01.2005</td>\n",
              "      <td>17:00:00</td>\n",
              "      <td>SEOTT</td>\n",
              "      <td>ALLORA</td>\n",
              "      <td>Honduras</td>\n",
              "      <td>6505600</td>\n",
              "      <td>HQRN2</td>\n",
              "      <td>517</td>\n",
              "      <td>47.85</td>\n",
              "      <td>Polfracht Shipping Agency Ltd.</td>\n",
              "      <td>PRZEMYSŁOWE / WIŚLANE</td>\n",
              "    </tr>\n",
              "    <tr>\n",
              "      <th>3</th>\n",
              "      <td>PLGDN</td>\n",
              "      <td>06.01.2005</td>\n",
              "      <td>10:00:00</td>\n",
              "      <td>BEANR</td>\n",
              "      <td>CT SUN</td>\n",
              "      <td>Malta</td>\n",
              "      <td>7816484</td>\n",
              "      <td>9HZC7</td>\n",
              "      <td>4382</td>\n",
              "      <td>118.36</td>\n",
              "      <td>Polfracht Shipping Agency Ltd.</td>\n",
              "      <td>OBROŃCÓW POCZTY POLSKIEJ</td>\n",
              "    </tr>\n",
              "    <tr>\n",
              "      <th>4</th>\n",
              "      <td>PLGDN</td>\n",
              "      <td>07.01.2005</td>\n",
              "      <td>20:00:00</td>\n",
              "      <td>SEGOT</td>\n",
              "      <td>TANGO</td>\n",
              "      <td>Romania</td>\n",
              "      <td>8306589</td>\n",
              "      <td>YQOA</td>\n",
              "      <td>9983</td>\n",
              "      <td>140.00</td>\n",
              "      <td>DFDS SEAWAYS Sp. z o. o.</td>\n",
              "      <td>WESTERPLATTE</td>\n",
              "    </tr>\n",
              "    <tr>\n",
              "      <th>5</th>\n",
              "      <td>PLGDN</td>\n",
              "      <td>08.01.2005</td>\n",
              "      <td>10:00:00</td>\n",
              "      <td>LVVNT</td>\n",
              "      <td>MARELD</td>\n",
              "      <td>Norway</td>\n",
              "      <td>9297204</td>\n",
              "      <td>LADI6</td>\n",
              "      <td>4745</td>\n",
              "      <td>119.10</td>\n",
              "      <td>Polfracht Shipping Agency Ltd.</td>\n",
              "      <td>OBROŃCÓW POCZTY POLSKIEJ</td>\n",
              "    </tr>\n",
              "    <tr>\n",
              "      <th>6</th>\n",
              "      <td>PLGDN</td>\n",
              "      <td>09.01.2005</td>\n",
              "      <td>16:00:00</td>\n",
              "      <td>PLWLA</td>\n",
              "      <td>ICARUS III</td>\n",
              "      <td>Cyprus</td>\n",
              "      <td>9145413</td>\n",
              "      <td>P3WM9</td>\n",
              "      <td>21605</td>\n",
              "      <td>182.14</td>\n",
              "      <td>Polfracht Shipping Agency Ltd.</td>\n",
              "      <td>BPPP JETTY \" R \"</td>\n",
              "    </tr>\n",
              "    <tr>\n",
              "      <th>7</th>\n",
              "      <td>PLGDN</td>\n",
              "      <td>10.01.2005</td>\n",
              "      <td>22:00:00</td>\n",
              "      <td>DEEME</td>\n",
              "      <td>CAPE EGMONT</td>\n",
              "      <td>Marshall Islands</td>\n",
              "      <td>9262819</td>\n",
              "      <td>V7EU8</td>\n",
              "      <td>8351</td>\n",
              "      <td>127.20</td>\n",
              "      <td>Polfracht Shipping Agency Ltd.</td>\n",
              "      <td>CHEMIKÓW</td>\n",
              "    </tr>\n",
              "    <tr>\n",
              "      <th>8</th>\n",
              "      <td>PLGDN</td>\n",
              "      <td>11.01.2005</td>\n",
              "      <td>15:30:00</td>\n",
              "      <td>DKCPH</td>\n",
              "      <td>TANGO</td>\n",
              "      <td>Romania</td>\n",
              "      <td>8306589</td>\n",
              "      <td>YQOA</td>\n",
              "      <td>9983</td>\n",
              "      <td>140.12</td>\n",
              "      <td>DFDS SEAWAYS Sp. z o. o.</td>\n",
              "      <td>WESTERPLATTE</td>\n",
              "    </tr>\n",
              "    <tr>\n",
              "      <th>9</th>\n",
              "      <td>PLGDN</td>\n",
              "      <td>12.01.2005</td>\n",
              "      <td>12:00:00</td>\n",
              "      <td>RULED</td>\n",
              "      <td>PETSAMO</td>\n",
              "      <td>Finland</td>\n",
              "      <td>7517545</td>\n",
              "      <td>OIZH</td>\n",
              "      <td>2356</td>\n",
              "      <td>84.00</td>\n",
              "      <td>Cargo Service Co. Ltd Gdańsk</td>\n",
              "      <td>NAB SZCZECIŃSKIE GTK</td>\n",
              "    </tr>\n",
              "  </tbody>\n",
              "</table>\n",
              "</div>"
            ],
            "text/plain": [
              "  Kod portu \\n  ... Nabrzeże (miejsce zacumowania)\n",
              "0        PLGDN  ...          NAB. SZCZECIŃSKIE GTK\n",
              "1        PLGDN  ...                   WESTERPLATTE\n",
              "2        PLGDN  ...          PRZEMYSŁOWE / WIŚLANE\n",
              "3        PLGDN  ...       OBROŃCÓW POCZTY POLSKIEJ\n",
              "4        PLGDN  ...                   WESTERPLATTE\n",
              "5        PLGDN  ...       OBROŃCÓW POCZTY POLSKIEJ\n",
              "6        PLGDN  ...               BPPP JETTY \" R \"\n",
              "7        PLGDN  ...                       CHEMIKÓW\n",
              "8        PLGDN  ...                   WESTERPLATTE\n",
              "9        PLGDN  ...           NAB SZCZECIŃSKIE GTK\n",
              "\n",
              "[10 rows x 12 columns]"
            ]
          },
          "metadata": {
            "tags": []
          },
          "execution_count": 203
        }
      ]
    },
    {
      "cell_type": "code",
      "metadata": {
        "id": "9U_UDEa97QfU",
        "colab_type": "code",
        "colab": {
          "base_uri": "https://localhost:8080/",
          "height": 109
        },
        "outputId": "41857b03-29ad-47f9-f3f7-d4916037f135"
      },
      "source": [
        "df.columns"
      ],
      "execution_count": null,
      "outputs": [
        {
          "output_type": "execute_result",
          "data": {
            "text/plain": [
              "Index(['Kod portu \\n', 'Data wyjścia (rrrr-mm-dd)', 'Godzina wyjścia\\n(hh:mm)',\n",
              "       'Kod portu, \\nprzeznaczenia ', 'Nazwa statku', 'Bandera', 'nr IMO',\n",
              "       'Sygnał wywoławczy', 'Pojemność brutto \\n(tony)', 'Długość (metry)',\n",
              "       'Agent', 'Nabrzeże (miejsce zacumowania)'],\n",
              "      dtype='object')"
            ]
          },
          "metadata": {
            "tags": []
          },
          "execution_count": 182
        }
      ]
    },
    {
      "cell_type": "markdown",
      "metadata": {
        "id": "yP0L5BZImehv",
        "colab_type": "text"
      },
      "source": [
        "Usuń tabulatory w nazwach kolumn, bazując na wcześniej wczytanej tabeli."
      ]
    },
    {
      "cell_type": "code",
      "metadata": {
        "id": "KyGtTW8vmc8y",
        "colab_type": "code",
        "colab": {
          "base_uri": "https://localhost:8080/",
          "height": 311
        },
        "outputId": "d499785d-973e-4d3f-e5e7-26e6fef2a274"
      },
      "source": [
        "df.columns = df.columns.str.replace(r'\\n',\"\")\n",
        "df.columns = df.columns.str.replace(r'\\t',\"\")\n",
        "df.head()"
      ],
      "execution_count": null,
      "outputs": [
        {
          "output_type": "execute_result",
          "data": {
            "text/html": [
              "<div>\n",
              "<style scoped>\n",
              "    .dataframe tbody tr th:only-of-type {\n",
              "        vertical-align: middle;\n",
              "    }\n",
              "\n",
              "    .dataframe tbody tr th {\n",
              "        vertical-align: top;\n",
              "    }\n",
              "\n",
              "    .dataframe thead th {\n",
              "        text-align: right;\n",
              "    }\n",
              "</style>\n",
              "<table border=\"1\" class=\"dataframe\">\n",
              "  <thead>\n",
              "    <tr style=\"text-align: right;\">\n",
              "      <th></th>\n",
              "      <th>Kod portu</th>\n",
              "      <th>Data wyjścia (rrrr-mm-dd)</th>\n",
              "      <th>Godzina wyjścia(hh:mm)</th>\n",
              "      <th>Kod portu, przeznaczenia</th>\n",
              "      <th>Nazwa statku</th>\n",
              "      <th>Bandera</th>\n",
              "      <th>nr IMO</th>\n",
              "      <th>Sygnał wywoławczy</th>\n",
              "      <th>Pojemność brutto (tony)</th>\n",
              "      <th>Długość (metry)</th>\n",
              "      <th>Agent</th>\n",
              "      <th>Nabrzeże (miejsce zacumowania)</th>\n",
              "    </tr>\n",
              "  </thead>\n",
              "  <tbody>\n",
              "    <tr>\n",
              "      <th>0</th>\n",
              "      <td>PLGDN</td>\n",
              "      <td>04.01.2005</td>\n",
              "      <td>12:00:00</td>\n",
              "      <td>RULED</td>\n",
              "      <td>PETSAMO</td>\n",
              "      <td>Finland</td>\n",
              "      <td>7517545</td>\n",
              "      <td>OIZH</td>\n",
              "      <td>2356</td>\n",
              "      <td>84.00</td>\n",
              "      <td>Cargo Service Co. Ltd Gdańsk</td>\n",
              "      <td>NAB. SZCZECIŃSKIE GTK</td>\n",
              "    </tr>\n",
              "    <tr>\n",
              "      <th>1</th>\n",
              "      <td>PLGDN</td>\n",
              "      <td>04.01.2005</td>\n",
              "      <td>09:00:00</td>\n",
              "      <td>DKCPH</td>\n",
              "      <td>TANGO</td>\n",
              "      <td>Romania</td>\n",
              "      <td>8306589</td>\n",
              "      <td>YQOA</td>\n",
              "      <td>9983</td>\n",
              "      <td>140.12</td>\n",
              "      <td>DFDS SEAWAYS Sp. z o. o.</td>\n",
              "      <td>WESTERPLATTE</td>\n",
              "    </tr>\n",
              "    <tr>\n",
              "      <th>2</th>\n",
              "      <td>PLGDN</td>\n",
              "      <td>05.01.2005</td>\n",
              "      <td>17:00:00</td>\n",
              "      <td>SEOTT</td>\n",
              "      <td>ALLORA</td>\n",
              "      <td>Honduras</td>\n",
              "      <td>6505600</td>\n",
              "      <td>HQRN2</td>\n",
              "      <td>517</td>\n",
              "      <td>47.85</td>\n",
              "      <td>Polfracht Shipping Agency Ltd.</td>\n",
              "      <td>PRZEMYSŁOWE / WIŚLANE</td>\n",
              "    </tr>\n",
              "    <tr>\n",
              "      <th>3</th>\n",
              "      <td>PLGDN</td>\n",
              "      <td>06.01.2005</td>\n",
              "      <td>10:00:00</td>\n",
              "      <td>BEANR</td>\n",
              "      <td>CT SUN</td>\n",
              "      <td>Malta</td>\n",
              "      <td>7816484</td>\n",
              "      <td>9HZC7</td>\n",
              "      <td>4382</td>\n",
              "      <td>118.36</td>\n",
              "      <td>Polfracht Shipping Agency Ltd.</td>\n",
              "      <td>OBROŃCÓW POCZTY POLSKIEJ</td>\n",
              "    </tr>\n",
              "    <tr>\n",
              "      <th>4</th>\n",
              "      <td>PLGDN</td>\n",
              "      <td>07.01.2005</td>\n",
              "      <td>20:00:00</td>\n",
              "      <td>SEGOT</td>\n",
              "      <td>TANGO</td>\n",
              "      <td>Romania</td>\n",
              "      <td>8306589</td>\n",
              "      <td>YQOA</td>\n",
              "      <td>9983</td>\n",
              "      <td>140.00</td>\n",
              "      <td>DFDS SEAWAYS Sp. z o. o.</td>\n",
              "      <td>WESTERPLATTE</td>\n",
              "    </tr>\n",
              "  </tbody>\n",
              "</table>\n",
              "</div>"
            ],
            "text/plain": [
              "  Kod portu   ... Nabrzeże (miejsce zacumowania)\n",
              "0      PLGDN  ...          NAB. SZCZECIŃSKIE GTK\n",
              "1      PLGDN  ...                   WESTERPLATTE\n",
              "2      PLGDN  ...          PRZEMYSŁOWE / WIŚLANE\n",
              "3      PLGDN  ...       OBROŃCÓW POCZTY POLSKIEJ\n",
              "4      PLGDN  ...                   WESTERPLATTE\n",
              "\n",
              "[5 rows x 12 columns]"
            ]
          },
          "metadata": {
            "tags": []
          },
          "execution_count": 204
        }
      ]
    },
    {
      "cell_type": "markdown",
      "metadata": {
        "id": "nECf-_7gRWxa",
        "colab_type": "text"
      },
      "source": [
        "## Zadanie - 2"
      ]
    },
    {
      "cell_type": "markdown",
      "metadata": {
        "id": "4SIvSOD20N7A",
        "colab_type": "text"
      },
      "source": [
        "Sprawdź rozmiar tabeli oraz typy danych wg. kolumn."
      ]
    },
    {
      "cell_type": "code",
      "metadata": {
        "id": "uZ64Yl5I0V4t",
        "colab_type": "code",
        "colab": {
          "base_uri": "https://localhost:8080/",
          "height": 35
        },
        "outputId": "528a485d-3dc5-4aeb-924a-09f4fb89d3db"
      },
      "source": [
        "df.shape"
      ],
      "execution_count": null,
      "outputs": [
        {
          "output_type": "execute_result",
          "data": {
            "text/plain": [
              "(11490, 12)"
            ]
          },
          "metadata": {
            "tags": []
          },
          "execution_count": 69
        }
      ]
    },
    {
      "cell_type": "code",
      "metadata": {
        "id": "bouTLPU7N12j",
        "colab_type": "code",
        "colab": {
          "base_uri": "https://localhost:8080/",
          "height": 257
        },
        "outputId": "51013367-6a73-4216-f090-01f1a0bf1aa0"
      },
      "source": [
        "df.dtypes"
      ],
      "execution_count": null,
      "outputs": [
        {
          "output_type": "execute_result",
          "data": {
            "text/plain": [
              "Kod portu                         object\n",
              "Data wyjścia (rrrr-mm-dd)         object\n",
              "Godzina wyjścia(hh:mm)            object\n",
              "Kod portu, przeznaczenia          object\n",
              "Nazwa statku                      object\n",
              "Bandera                           object\n",
              "nr IMO                            object\n",
              "Sygnał wywoławczy                 object\n",
              "Pojemność brutto (tony)            int64\n",
              "Długość (metry)                   object\n",
              "Agent                             object\n",
              "Nabrzeże (miejsce zacumowania)    object\n",
              "dtype: object"
            ]
          },
          "metadata": {
            "tags": []
          },
          "execution_count": 100
        }
      ]
    },
    {
      "cell_type": "markdown",
      "metadata": {
        "id": "rG3PrtmJm1sH",
        "colab_type": "text"
      },
      "source": [
        "## Zadanie - 3"
      ]
    },
    {
      "cell_type": "markdown",
      "metadata": {
        "id": "23iIXEIy2rZF",
        "colab_type": "text"
      },
      "source": [
        "Wyświetl nazwę kolumny oraz pierwszą wartość z tej kolumny, przy czym połączenie nazwa kolumny - pierwsza wartość ma być wyświetlone w nowym wierszu odpowiednio."
      ]
    },
    {
      "cell_type": "code",
      "metadata": {
        "id": "sVRKy1xD2Mm6",
        "colab_type": "code",
        "colab": {
          "base_uri": "https://localhost:8080/",
          "height": 239
        },
        "outputId": "61ff367b-320f-4bd8-e970-a7841492979d"
      },
      "source": [
        "for column in df.columns:\n",
        "  pierwszywiersz = df[column][0]\n",
        "  print(column, pierwszywiersz, end = \"\\n\")"
      ],
      "execution_count": null,
      "outputs": [
        {
          "output_type": "stream",
          "text": [
            "Kod portu  PLGDN\n",
            "Data wyjścia (rrrr-mm-dd) 04.01.2005\n",
            "Godzina wyjścia(hh:mm) 12:00:00\n",
            "Kod portu, przeznaczenia  RULED\n",
            "Nazwa statku PETSAMO\n",
            "Bandera Finland\n",
            "nr IMO 7517545\n",
            "Sygnał wywoławczy OIZH\n",
            "Pojemność brutto (tony) 2356\n",
            "Długość (metry) 84.00\n",
            "Agent Cargo Service Co. Ltd Gdańsk\n",
            "Nabrzeże (miejsce zacumowania) NAB. SZCZECIŃSKIE GTK\n"
          ],
          "name": "stdout"
        }
      ]
    },
    {
      "cell_type": "markdown",
      "metadata": {
        "id": "cO94GVsn3l3f",
        "colab_type": "text"
      },
      "source": [
        "## Zadanie - 4"
      ]
    },
    {
      "cell_type": "markdown",
      "metadata": {
        "id": "EFqDtOfp10H6",
        "colab_type": "text"
      },
      "source": [
        "Zmień typ danych dla kolumn:<br><br>\n",
        "* `Data wyjścia (rrrr-mm-dd)` na `date` uzywając funkcji: `pd.to_datetime(data, format = \"%d.%m.%Y\")`<br><br>\n",
        "\n",
        "Na wartości numeryczne używając funkcji: `pd.to_numeric(liczba, errors = \"coerce\")` <br>gdzie `coerce` wymusza zamianę nieprawidłowych wartości na NaN:<br>\n",
        "* `nr IMO` \n",
        "* `Długość (metry)`"
      ]
    },
    {
      "cell_type": "code",
      "metadata": {
        "id": "TLg1ID-L4ssQ",
        "colab_type": "code",
        "colab": {
          "base_uri": "https://localhost:8080/",
          "height": 311
        },
        "outputId": "fa2b483f-b9c0-48c9-a229-2e21d4bcab47"
      },
      "source": [
        "df[\"Data wyjścia (rrrr-mm-dd)\"] = pd.to_datetime(df[\"Data wyjścia (rrrr-mm-dd)\"], format = \"%d.%m.%Y\") \n",
        "df[\"nr IMO\"] = pd.to_numeric(df[\"nr IMO\"], errors = \"coerce\")\n",
        "df[\"Długość (metry)\"] = pd.to_numeric(df[\"Długość (metry)\"], errors = \"coerce\")\n",
        "df[\"Pojemność brutto (tony)\"] = pd.to_numeric(df[\"Pojemność brutto (tony)\"], errors = \"coerce\")\n",
        "\n",
        "df.dropna(axis = 0)\n",
        "df.head()"
      ],
      "execution_count": null,
      "outputs": [
        {
          "output_type": "execute_result",
          "data": {
            "text/html": [
              "<div>\n",
              "<style scoped>\n",
              "    .dataframe tbody tr th:only-of-type {\n",
              "        vertical-align: middle;\n",
              "    }\n",
              "\n",
              "    .dataframe tbody tr th {\n",
              "        vertical-align: top;\n",
              "    }\n",
              "\n",
              "    .dataframe thead th {\n",
              "        text-align: right;\n",
              "    }\n",
              "</style>\n",
              "<table border=\"1\" class=\"dataframe\">\n",
              "  <thead>\n",
              "    <tr style=\"text-align: right;\">\n",
              "      <th></th>\n",
              "      <th>Kod portu</th>\n",
              "      <th>Data wyjścia (rrrr-mm-dd)</th>\n",
              "      <th>Godzina wyjścia(hh:mm)</th>\n",
              "      <th>Kod portu, przeznaczenia</th>\n",
              "      <th>Nazwa statku</th>\n",
              "      <th>Bandera</th>\n",
              "      <th>nr IMO</th>\n",
              "      <th>Sygnał wywoławczy</th>\n",
              "      <th>Pojemność brutto (tony)</th>\n",
              "      <th>Długość (metry)</th>\n",
              "      <th>Agent</th>\n",
              "      <th>Nabrzeże (miejsce zacumowania)</th>\n",
              "    </tr>\n",
              "  </thead>\n",
              "  <tbody>\n",
              "    <tr>\n",
              "      <th>0</th>\n",
              "      <td>PLGDN</td>\n",
              "      <td>2005-01-04</td>\n",
              "      <td>12:00:00</td>\n",
              "      <td>RULED</td>\n",
              "      <td>PETSAMO</td>\n",
              "      <td>Finland</td>\n",
              "      <td>7517545.0</td>\n",
              "      <td>OIZH</td>\n",
              "      <td>2356</td>\n",
              "      <td>84.00</td>\n",
              "      <td>Cargo Service Co. Ltd Gdańsk</td>\n",
              "      <td>NAB. SZCZECIŃSKIE GTK</td>\n",
              "    </tr>\n",
              "    <tr>\n",
              "      <th>1</th>\n",
              "      <td>PLGDN</td>\n",
              "      <td>2005-01-04</td>\n",
              "      <td>09:00:00</td>\n",
              "      <td>DKCPH</td>\n",
              "      <td>TANGO</td>\n",
              "      <td>Romania</td>\n",
              "      <td>8306589.0</td>\n",
              "      <td>YQOA</td>\n",
              "      <td>9983</td>\n",
              "      <td>140.12</td>\n",
              "      <td>DFDS SEAWAYS Sp. z o. o.</td>\n",
              "      <td>WESTERPLATTE</td>\n",
              "    </tr>\n",
              "    <tr>\n",
              "      <th>2</th>\n",
              "      <td>PLGDN</td>\n",
              "      <td>2005-01-05</td>\n",
              "      <td>17:00:00</td>\n",
              "      <td>SEOTT</td>\n",
              "      <td>ALLORA</td>\n",
              "      <td>Honduras</td>\n",
              "      <td>6505600.0</td>\n",
              "      <td>HQRN2</td>\n",
              "      <td>517</td>\n",
              "      <td>47.85</td>\n",
              "      <td>Polfracht Shipping Agency Ltd.</td>\n",
              "      <td>PRZEMYSŁOWE / WIŚLANE</td>\n",
              "    </tr>\n",
              "    <tr>\n",
              "      <th>3</th>\n",
              "      <td>PLGDN</td>\n",
              "      <td>2005-01-06</td>\n",
              "      <td>10:00:00</td>\n",
              "      <td>BEANR</td>\n",
              "      <td>CT SUN</td>\n",
              "      <td>Malta</td>\n",
              "      <td>7816484.0</td>\n",
              "      <td>9HZC7</td>\n",
              "      <td>4382</td>\n",
              "      <td>118.36</td>\n",
              "      <td>Polfracht Shipping Agency Ltd.</td>\n",
              "      <td>OBROŃCÓW POCZTY POLSKIEJ</td>\n",
              "    </tr>\n",
              "    <tr>\n",
              "      <th>4</th>\n",
              "      <td>PLGDN</td>\n",
              "      <td>2005-01-07</td>\n",
              "      <td>20:00:00</td>\n",
              "      <td>SEGOT</td>\n",
              "      <td>TANGO</td>\n",
              "      <td>Romania</td>\n",
              "      <td>8306589.0</td>\n",
              "      <td>YQOA</td>\n",
              "      <td>9983</td>\n",
              "      <td>140.00</td>\n",
              "      <td>DFDS SEAWAYS Sp. z o. o.</td>\n",
              "      <td>WESTERPLATTE</td>\n",
              "    </tr>\n",
              "  </tbody>\n",
              "</table>\n",
              "</div>"
            ],
            "text/plain": [
              "  Kod portu   ... Nabrzeże (miejsce zacumowania)\n",
              "0      PLGDN  ...          NAB. SZCZECIŃSKIE GTK\n",
              "1      PLGDN  ...                   WESTERPLATTE\n",
              "2      PLGDN  ...          PRZEMYSŁOWE / WIŚLANE\n",
              "3      PLGDN  ...       OBROŃCÓW POCZTY POLSKIEJ\n",
              "4      PLGDN  ...                   WESTERPLATTE\n",
              "\n",
              "[5 rows x 12 columns]"
            ]
          },
          "metadata": {
            "tags": []
          },
          "execution_count": 206
        }
      ]
    },
    {
      "cell_type": "markdown",
      "metadata": {
        "id": "QcbVqote-fQh",
        "colab_type": "text"
      },
      "source": [
        "Sprawdź jaki jest efekt zmian:"
      ]
    },
    {
      "cell_type": "code",
      "metadata": {
        "id": "JbMmNSd_-e50",
        "colab_type": "code",
        "colab": {
          "base_uri": "https://localhost:8080/",
          "height": 257
        },
        "outputId": "f326b0c8-6488-4633-939c-74c0cd183d53"
      },
      "source": [
        "df.dtypes"
      ],
      "execution_count": null,
      "outputs": [
        {
          "output_type": "execute_result",
          "data": {
            "text/plain": [
              "Kod portu                                 object\n",
              "Data wyjścia (rrrr-mm-dd)         datetime64[ns]\n",
              "Godzina wyjścia(hh:mm)                    object\n",
              "Kod portu, przeznaczenia                  object\n",
              "Nazwa statku                              object\n",
              "Bandera                                   object\n",
              "nr IMO                                   float64\n",
              "Sygnał wywoławczy                         object\n",
              "Pojemność brutto (tony)                    int64\n",
              "Długość (metry)                          float64\n",
              "Agent                                     object\n",
              "Nabrzeże (miejsce zacumowania)            object\n",
              "dtype: object"
            ]
          },
          "metadata": {
            "tags": []
          },
          "execution_count": 125
        }
      ]
    },
    {
      "cell_type": "markdown",
      "metadata": {
        "id": "wVUVqTAuAAGU",
        "colab_type": "text"
      },
      "source": [
        "## Zadanie - 5 "
      ]
    },
    {
      "cell_type": "markdown",
      "metadata": {
        "id": "clANEzmEFwMl",
        "colab_type": "text"
      },
      "source": [
        "Obetnij zbiór do 10000 wierszy:"
      ]
    },
    {
      "cell_type": "code",
      "metadata": {
        "id": "AhWUwY_aGRBU",
        "colab_type": "code",
        "colab": {
          "base_uri": "https://localhost:8080/",
          "height": 311
        },
        "outputId": "5b697e89-1ac5-454e-e91a-7faacac1c273"
      },
      "source": [
        "df = df.head(10000)\n",
        "df.tail()"
      ],
      "execution_count": null,
      "outputs": [
        {
          "output_type": "execute_result",
          "data": {
            "text/html": [
              "<div>\n",
              "<style scoped>\n",
              "    .dataframe tbody tr th:only-of-type {\n",
              "        vertical-align: middle;\n",
              "    }\n",
              "\n",
              "    .dataframe tbody tr th {\n",
              "        vertical-align: top;\n",
              "    }\n",
              "\n",
              "    .dataframe thead th {\n",
              "        text-align: right;\n",
              "    }\n",
              "</style>\n",
              "<table border=\"1\" class=\"dataframe\">\n",
              "  <thead>\n",
              "    <tr style=\"text-align: right;\">\n",
              "      <th></th>\n",
              "      <th>Kod portu</th>\n",
              "      <th>Data wyjścia (rrrr-mm-dd)</th>\n",
              "      <th>Godzina wyjścia(hh:mm)</th>\n",
              "      <th>Kod portu, przeznaczenia</th>\n",
              "      <th>Nazwa statku</th>\n",
              "      <th>Bandera</th>\n",
              "      <th>nr IMO</th>\n",
              "      <th>Sygnał wywoławczy</th>\n",
              "      <th>Pojemność brutto (tony)</th>\n",
              "      <th>Długość (metry)</th>\n",
              "      <th>Agent</th>\n",
              "      <th>Nabrzeże (miejsce zacumowania)</th>\n",
              "    </tr>\n",
              "  </thead>\n",
              "  <tbody>\n",
              "    <tr>\n",
              "      <th>9995</th>\n",
              "      <td>PLGDN</td>\n",
              "      <td>2019-04-12</td>\n",
              "      <td>15:45:00</td>\n",
              "      <td>DEWHV</td>\n",
              "      <td>CSCL PACIFIC OCEAN</td>\n",
              "      <td>Hong Kong</td>\n",
              "      <td>9695133.0</td>\n",
              "      <td>VRNV5</td>\n",
              "      <td>187541</td>\n",
              "      <td>399.67</td>\n",
              "      <td>Cosco Shipping Lines (Poland) Sp. z o.o.</td>\n",
              "      <td>DCT -Przeładunkowe</td>\n",
              "    </tr>\n",
              "    <tr>\n",
              "      <th>9996</th>\n",
              "      <td>PLGDN</td>\n",
              "      <td>2019-04-12</td>\n",
              "      <td>05:00:00</td>\n",
              "      <td>ZZUKN</td>\n",
              "      <td>ENDURANCE</td>\n",
              "      <td>United States</td>\n",
              "      <td>9121273.0</td>\n",
              "      <td>WDE9586</td>\n",
              "      <td>72708</td>\n",
              "      <td>264.60</td>\n",
              "      <td>Wilhelmsen Ships Service Polska Sp. z o.o.</td>\n",
              "      <td>DCT -Przeładunkowe</td>\n",
              "    </tr>\n",
              "    <tr>\n",
              "      <th>9997</th>\n",
              "      <td>PLGDN</td>\n",
              "      <td>2019-04-12</td>\n",
              "      <td>12:00:00</td>\n",
              "      <td>ZZUKN</td>\n",
              "      <td>ADVANTAGE SUMMER</td>\n",
              "      <td>Marshall Islands</td>\n",
              "      <td>9419890.0</td>\n",
              "      <td>V7EW8</td>\n",
              "      <td>83805</td>\n",
              "      <td>274.00</td>\n",
              "      <td>OKMARIT Ltd</td>\n",
              "      <td>BPPP Stanowisko T</td>\n",
              "    </tr>\n",
              "    <tr>\n",
              "      <th>9998</th>\n",
              "      <td>PLGDN</td>\n",
              "      <td>2019-04-13</td>\n",
              "      <td>12:15:00</td>\n",
              "      <td>LVRIX</td>\n",
              "      <td>BALTIC SHEARWATER</td>\n",
              "      <td>Cyprus</td>\n",
              "      <td>9313228.0</td>\n",
              "      <td>5BSD4</td>\n",
              "      <td>16324</td>\n",
              "      <td>169.00</td>\n",
              "      <td>Cosco Shipping Lines (Poland) Sp. z o.o.</td>\n",
              "      <td>DCT -Przeładunkowe</td>\n",
              "    </tr>\n",
              "    <tr>\n",
              "      <th>9999</th>\n",
              "      <td>PLGDN</td>\n",
              "      <td>2019-04-13</td>\n",
              "      <td>08:30:00</td>\n",
              "      <td>PLGDY</td>\n",
              "      <td>EXPANSA</td>\n",
              "      <td>Antigua and Barbuda</td>\n",
              "      <td>9429261.0</td>\n",
              "      <td>V2QJ7</td>\n",
              "      <td>9983</td>\n",
              "      <td>140.70</td>\n",
              "      <td>UNIFEEDER A/S S.A. O. W POLSCE</td>\n",
              "      <td>DCT -Przeładunkowe</td>\n",
              "    </tr>\n",
              "  </tbody>\n",
              "</table>\n",
              "</div>"
            ],
            "text/plain": [
              "     Kod portu   ... Nabrzeże (miejsce zacumowania)\n",
              "9995      PLGDN  ...             DCT -Przeładunkowe\n",
              "9996      PLGDN  ...             DCT -Przeładunkowe\n",
              "9997      PLGDN  ...              BPPP Stanowisko T\n",
              "9998      PLGDN  ...             DCT -Przeładunkowe\n",
              "9999      PLGDN  ...             DCT -Przeładunkowe\n",
              "\n",
              "[5 rows x 12 columns]"
            ]
          },
          "metadata": {
            "tags": []
          },
          "execution_count": 207
        }
      ]
    },
    {
      "cell_type": "markdown",
      "metadata": {
        "id": "T3LYFYey1x0a",
        "colab_type": "text"
      },
      "source": [
        "Sprawdź podstawowe statystyki co do długości statków dodatkowo agregując wynik wg. kolumny Bandera (*przynależność państwowa statku*). "
      ]
    },
    {
      "cell_type": "code",
      "metadata": {
        "id": "9CwMsIDvHMz4",
        "colab_type": "code",
        "colab": {
          "base_uri": "https://localhost:8080/",
          "height": 455
        },
        "outputId": "fa640d05-2ec1-4448-8bd7-a0c0f904df3a"
      },
      "source": [
        "df.groupby([\"Bandera\"])[\"Długość (metry)\"].describe()"
      ],
      "execution_count": null,
      "outputs": [
        {
          "output_type": "execute_result",
          "data": {
            "text/html": [
              "<div>\n",
              "<style scoped>\n",
              "    .dataframe tbody tr th:only-of-type {\n",
              "        vertical-align: middle;\n",
              "    }\n",
              "\n",
              "    .dataframe tbody tr th {\n",
              "        vertical-align: top;\n",
              "    }\n",
              "\n",
              "    .dataframe thead th {\n",
              "        text-align: right;\n",
              "    }\n",
              "</style>\n",
              "<table border=\"1\" class=\"dataframe\">\n",
              "  <thead>\n",
              "    <tr style=\"text-align: right;\">\n",
              "      <th></th>\n",
              "      <th>count</th>\n",
              "      <th>mean</th>\n",
              "      <th>std</th>\n",
              "      <th>min</th>\n",
              "      <th>25%</th>\n",
              "      <th>50%</th>\n",
              "      <th>75%</th>\n",
              "      <th>max</th>\n",
              "    </tr>\n",
              "    <tr>\n",
              "      <th>Bandera</th>\n",
              "      <th></th>\n",
              "      <th></th>\n",
              "      <th></th>\n",
              "      <th></th>\n",
              "      <th></th>\n",
              "      <th></th>\n",
              "      <th></th>\n",
              "      <th></th>\n",
              "    </tr>\n",
              "  </thead>\n",
              "  <tbody>\n",
              "    <tr>\n",
              "      <th>Anguilla</th>\n",
              "      <td>1.0</td>\n",
              "      <td>73.660000</td>\n",
              "      <td>NaN</td>\n",
              "      <td>73.66</td>\n",
              "      <td>73.6600</td>\n",
              "      <td>73.66</td>\n",
              "      <td>73.6600</td>\n",
              "      <td>73.66</td>\n",
              "    </tr>\n",
              "    <tr>\n",
              "      <th>Antigua and Barbuda</th>\n",
              "      <td>768.0</td>\n",
              "      <td>174.439076</td>\n",
              "      <td>783.604384</td>\n",
              "      <td>47.00</td>\n",
              "      <td>132.0000</td>\n",
              "      <td>137.50</td>\n",
              "      <td>152.0000</td>\n",
              "      <td>15808.00</td>\n",
              "    </tr>\n",
              "    <tr>\n",
              "      <th>Bahamas</th>\n",
              "      <td>152.0</td>\n",
              "      <td>204.697237</td>\n",
              "      <td>67.689633</td>\n",
              "      <td>63.00</td>\n",
              "      <td>143.7575</td>\n",
              "      <td>244.65</td>\n",
              "      <td>253.0000</td>\n",
              "      <td>334.45</td>\n",
              "    </tr>\n",
              "    <tr>\n",
              "      <th>Barbados</th>\n",
              "      <td>5.0</td>\n",
              "      <td>79.752000</td>\n",
              "      <td>1.927491</td>\n",
              "      <td>78.89</td>\n",
              "      <td>78.8900</td>\n",
              "      <td>78.89</td>\n",
              "      <td>78.8900</td>\n",
              "      <td>83.20</td>\n",
              "    </tr>\n",
              "    <tr>\n",
              "      <th>Belgium</th>\n",
              "      <td>4.0</td>\n",
              "      <td>133.642500</td>\n",
              "      <td>94.247735</td>\n",
              "      <td>79.78</td>\n",
              "      <td>87.4300</td>\n",
              "      <td>89.98</td>\n",
              "      <td>136.1925</td>\n",
              "      <td>274.83</td>\n",
              "    </tr>\n",
              "    <tr>\n",
              "      <th>...</th>\n",
              "      <td>...</td>\n",
              "      <td>...</td>\n",
              "      <td>...</td>\n",
              "      <td>...</td>\n",
              "      <td>...</td>\n",
              "      <td>...</td>\n",
              "      <td>...</td>\n",
              "      <td>...</td>\n",
              "    </tr>\n",
              "    <tr>\n",
              "      <th>Sweden</th>\n",
              "      <td>588.0</td>\n",
              "      <td>197.705595</td>\n",
              "      <td>805.693386</td>\n",
              "      <td>83.70</td>\n",
              "      <td>143.9700</td>\n",
              "      <td>149.95</td>\n",
              "      <td>155.4700</td>\n",
              "      <td>14401.00</td>\n",
              "    </tr>\n",
              "    <tr>\n",
              "      <th>Turkey</th>\n",
              "      <td>6.0</td>\n",
              "      <td>164.421667</td>\n",
              "      <td>55.990485</td>\n",
              "      <td>122.66</td>\n",
              "      <td>128.0075</td>\n",
              "      <td>144.05</td>\n",
              "      <td>173.9525</td>\n",
              "      <td>269.19</td>\n",
              "    </tr>\n",
              "    <tr>\n",
              "      <th>United Kingdom</th>\n",
              "      <td>219.0</td>\n",
              "      <td>160.785890</td>\n",
              "      <td>61.360357</td>\n",
              "      <td>29.50</td>\n",
              "      <td>134.4200</td>\n",
              "      <td>139.50</td>\n",
              "      <td>161.0000</td>\n",
              "      <td>366.00</td>\n",
              "    </tr>\n",
              "    <tr>\n",
              "      <th>United States</th>\n",
              "      <td>34.0</td>\n",
              "      <td>185.374118</td>\n",
              "      <td>67.669120</td>\n",
              "      <td>97.80</td>\n",
              "      <td>155.0000</td>\n",
              "      <td>155.00</td>\n",
              "      <td>202.2350</td>\n",
              "      <td>399.00</td>\n",
              "    </tr>\n",
              "    <tr>\n",
              "      <th>Vanuatu</th>\n",
              "      <td>7.0</td>\n",
              "      <td>172.504286</td>\n",
              "      <td>62.642747</td>\n",
              "      <td>85.70</td>\n",
              "      <td>118.3600</td>\n",
              "      <td>199.52</td>\n",
              "      <td>228.5300</td>\n",
              "      <td>228.53</td>\n",
              "    </tr>\n",
              "  </tbody>\n",
              "</table>\n",
              "<p>61 rows × 8 columns</p>\n",
              "</div>"
            ],
            "text/plain": [
              "                     count        mean         std  ...     50%       75%       max\n",
              "Bandera                                             ...                            \n",
              "Anguilla               1.0   73.660000         NaN  ...   73.66   73.6600     73.66\n",
              "Antigua and Barbuda  768.0  174.439076  783.604384  ...  137.50  152.0000  15808.00\n",
              "Bahamas              152.0  204.697237   67.689633  ...  244.65  253.0000    334.45\n",
              "Barbados               5.0   79.752000    1.927491  ...   78.89   78.8900     83.20\n",
              "Belgium                4.0  133.642500   94.247735  ...   89.98  136.1925    274.83\n",
              "...                    ...         ...         ...  ...     ...       ...       ...\n",
              "Sweden               588.0  197.705595  805.693386  ...  149.95  155.4700  14401.00\n",
              "Turkey                 6.0  164.421667   55.990485  ...  144.05  173.9525    269.19\n",
              "United Kingdom       219.0  160.785890   61.360357  ...  139.50  161.0000    366.00\n",
              "United States         34.0  185.374118   67.669120  ...  155.00  202.2350    399.00\n",
              "Vanuatu                7.0  172.504286   62.642747  ...  199.52  228.5300    228.53\n",
              "\n",
              "[61 rows x 8 columns]"
            ]
          },
          "metadata": {
            "tags": []
          },
          "execution_count": 127
        }
      ]
    },
    {
      "cell_type": "markdown",
      "metadata": {
        "id": "jwYDPq1zHah-",
        "colab_type": "text"
      },
      "source": [
        "Wg. przynależności państwowej statków, skąd są **średnio** **najdłuższe statki**, które wychodzą z portu Gdańsk? (Top 10)"
      ]
    },
    {
      "cell_type": "code",
      "metadata": {
        "id": "FQnAY5VlHxPs",
        "colab_type": "code",
        "colab": {
          "base_uri": "https://localhost:8080/",
          "height": 239
        },
        "outputId": "eeebce7d-07df-47d7-997f-2f17e41439db"
      },
      "source": [
        "df.groupby([\"Bandera\"])[\"Długość (metry)\"].mean().sort_values(ascending=False).head(10)"
      ],
      "execution_count": null,
      "outputs": [
        {
          "output_type": "execute_result",
          "data": {
            "text/plain": [
              "Bandera\n",
              "Isle of Man                 379.749410\n",
              "Denmark                     369.096494\n",
              "Kuwait                      333.583333\n",
              "Liberia                     327.549186\n",
              "Hong Kong                   322.034526\n",
              "Japan                       291.970000\n",
              "Bermuda                     288.500000\n",
              "Iran Islamic Republic of    274.000000\n",
              "India                       254.778571\n",
              "Cyprus                      254.252619\n",
              "Name: Długość (metry), dtype: float64"
            ]
          },
          "metadata": {
            "tags": []
          },
          "execution_count": 128
        }
      ]
    },
    {
      "cell_type": "markdown",
      "metadata": {
        "id": "FyXErevNIePN",
        "colab_type": "text"
      },
      "source": [
        "Wg. przynależności państwowej statków, jaka jest **średnia największa** ich **pojemność brutto** (tony)? (Top 10)"
      ]
    },
    {
      "cell_type": "code",
      "metadata": {
        "id": "EN1y1A3hAvNp",
        "colab_type": "code",
        "colab": {
          "base_uri": "https://localhost:8080/",
          "height": 239
        },
        "outputId": "cc0cb79d-3315-4eaa-d832-30da1e985183"
      },
      "source": [
        "df.groupby([\"Bandera\"])[\"Pojemność brutto (tony)\"].mean().sort_values(ascending=False).head(10)"
      ],
      "execution_count": null,
      "outputs": [
        {
          "output_type": "execute_result",
          "data": {
            "text/plain": [
              "Bandera\n",
              "Kuwait                      160243.000000\n",
              "Hong Kong                   132319.726316\n",
              "Denmark                     103773.544693\n",
              "Japan                        93182.000000\n",
              "Bermuda                      88539.000000\n",
              "Iran Islamic Republic of     81479.000000\n",
              "Hong Kong                    81119.792857\n",
              "India                        65479.714286\n",
              "Greece                       64022.824885\n",
              "Cayman Islands               61371.000000\n",
              "Name: Pojemność brutto (tony), dtype: float64"
            ]
          },
          "metadata": {
            "tags": []
          },
          "execution_count": 129
        }
      ]
    },
    {
      "cell_type": "code",
      "metadata": {
        "id": "MxHsYrUdhO8O",
        "colab_type": "code",
        "colab": {
          "base_uri": "https://localhost:8080/",
          "height": 109
        },
        "outputId": "fbb9aa0b-c5ff-4efa-d65f-908d8f960fe4"
      },
      "source": [
        "df.columns"
      ],
      "execution_count": null,
      "outputs": [
        {
          "output_type": "execute_result",
          "data": {
            "text/plain": [
              "Index(['Kod portu ', 'Data wyjścia (rrrr-mm-dd)', 'Godzina wyjścia(hh:mm)',\n",
              "       'Kod portu, przeznaczenia ', 'Nazwa statku', 'Bandera', 'nr IMO',\n",
              "       'Sygnał wywoławczy', 'Pojemność brutto (tony)', 'Długość (metry)',\n",
              "       'Agent', 'Nabrzeże (miejsce zacumowania)'],\n",
              "      dtype='object')"
            ]
          },
          "metadata": {
            "tags": []
          },
          "execution_count": 151
        }
      ]
    },
    {
      "cell_type": "code",
      "metadata": {
        "id": "lAV21Qih9MPv",
        "colab_type": "code",
        "colab": {
          "base_uri": "https://localhost:8080/",
          "height": 257
        },
        "outputId": "d5b4d599-cecd-4384-fabc-d7424fbf4da4"
      },
      "source": [
        "df.dtypes"
      ],
      "execution_count": null,
      "outputs": [
        {
          "output_type": "execute_result",
          "data": {
            "text/plain": [
              "Kod portu                                 object\n",
              "Data wyjścia (rrrr-mm-dd)         datetime64[ns]\n",
              "Godzina wyjścia(hh:mm)                    object\n",
              "Kod portu, przeznaczenia                  object\n",
              "Nazwa statku                              object\n",
              "Bandera                                   object\n",
              "nr IMO                                   float64\n",
              "Sygnał wywoławczy                         object\n",
              "Pojemność brutto (tony)                    int64\n",
              "Długość (metry)                          float64\n",
              "Agent                                     object\n",
              "Nabrzeże (miejsce zacumowania)            object\n",
              "dtype: object"
            ]
          },
          "metadata": {
            "tags": []
          },
          "execution_count": 186
        }
      ]
    },
    {
      "cell_type": "markdown",
      "metadata": {
        "id": "hxsJKCOlhOnq",
        "colab_type": "text"
      },
      "source": [
        ""
      ]
    },
    {
      "cell_type": "markdown",
      "metadata": {
        "id": "EnZotHoEu5zN",
        "colab_type": "text"
      },
      "source": [
        "## Zadanie - 6 (dodatkowe)"
      ]
    },
    {
      "cell_type": "markdown",
      "metadata": {
        "id": "9-Af-n2aMocw",
        "colab_type": "text"
      },
      "source": [
        "Opracuj to zadanie wg. kroków:\n",
        "* Stwórz bazę `SQLite`\n",
        "* Wczytaj dane do stworzonej bazy wykorzystując Data Frame obcięty do 10K wierszy z zadania N5\n",
        "* Opracuj zapytania SQL, które pozwolą odpowiedzieć na pytania:\n",
        "> 1) Wg. przynależności państwowej statków, skąd są średnio **najkrótsze statki**, które wychodzą z portu Gdańsk? (Top 10 - bander z średnio najkrótszymi statkami)<br><br>\n",
        "> 2) Wg. przynależności państwowej statków, jaka jest **średnia** ich **pojemność brutto** (tony)? (Top 10 - bander z średnio najemniejszą pojemnością statków)"
      ]
    },
    {
      "cell_type": "markdown",
      "metadata": {
        "id": "zMU2Ovs0M-nm",
        "colab_type": "text"
      },
      "source": [
        "![database](https://media.giphy.com/media/4FQMuOKR6zQRO/giphy.gif)"
      ]
    },
    {
      "cell_type": "code",
      "metadata": {
        "id": "m9YqByfhNEmd",
        "colab_type": "code",
        "colab": {
          "base_uri": "https://localhost:8080/",
          "height": 276
        },
        "outputId": "52fcd3f0-540b-43bd-a982-ab683860b4ba"
      },
      "source": [
        "# po kilku godzinach prób i błędów wyszło na to, że działa dopiero siódma zrobiona baza danych i piąta tabela... :) \n",
        "\n",
        "import sqlite3\n",
        "import sqlalchemy\n",
        "engine = sqlalchemy.create_engine('sqlite:///SQLite7.db')\n",
        "#bd=sqlite3.connect(\"SQLite5.db\")\n",
        "df2=df #kopia dataframe przed zmianami\n",
        "df2.rename(columns= {\"Kod portu \": \"Port\", \"Data wyjścia (rrrr-mm-dd)\": \"DataWyjscia\", \"Godzina wyjścia(hh:mm)\": \"GodzinaWyjścia\",\n",
        "       \"Kod portu, przeznaczenia \": \"PortPrzeznaczenia\", \"Nazwa statku\" : \"Nazwa\", \"Bandera\" : \"Bandera\", \"nr IMO\" : \"IMO\",\n",
        "       \"Sygnał wywoławczy\" : \"Sygnal\", \"Pojemność brutto (tony)\" : \"PojemnoscTony\", \"Długość (metry)\" : \"DlugoscMetry\",\n",
        "       \"Agent\" : \"Agent\", \"Nabrzeże (miejsce zacumowania)\" : \"Nabrzeze\"}, inplace = True)\n",
        "#kursor = engine.cursor()\n",
        "#kursor.execute('''CREATE TABLE SHIPS5 (Kod_portu text, Godzina_wyjścia timestamp, Data wyjścia date,  Kod_portu_przeznaczenia text, Nazwa_statku text, Bandera text, nr_IMO float, Sygnał_wywoławczy text, Pojemność_brutto integer, Długość_float, Agent text, Nabrzeże text)''')\n"
      ],
      "execution_count": null,
      "outputs": [
        {
          "output_type": "stream",
          "text": [
            "       Port  ...                  Nabrzeze\n",
            "0     PLGDN  ...     NAB. SZCZECIŃSKIE GTK\n",
            "1     PLGDN  ...              WESTERPLATTE\n",
            "2     PLGDN  ...     PRZEMYSŁOWE / WIŚLANE\n",
            "3     PLGDN  ...  OBROŃCÓW POCZTY POLSKIEJ\n",
            "4     PLGDN  ...              WESTERPLATTE\n",
            "...     ...  ...                       ...\n",
            "9995  PLGDN  ...        DCT -Przeładunkowe\n",
            "9996  PLGDN  ...        DCT -Przeładunkowe\n",
            "9997  PLGDN  ...         BPPP Stanowisko T\n",
            "9998  PLGDN  ...        DCT -Przeładunkowe\n",
            "9999  PLGDN  ...        DCT -Przeładunkowe\n",
            "\n",
            "[10000 rows x 12 columns]\n"
          ],
          "name": "stdout"
        }
      ]
    },
    {
      "cell_type": "code",
      "metadata": {
        "id": "DXDMfHGPJSX-",
        "colab_type": "code",
        "colab": {
          "base_uri": "https://localhost:8080/",
          "height": 276
        },
        "outputId": "ec95a107-d8b8-4f9c-ee2b-a14c2165075f"
      },
      "source": [
        "# import sql > pandas i pandas > sql\n",
        "\n",
        "dane = df2.to_sql(\n",
        "    name = \"SHIPS5\",\n",
        "    con = engine,\n",
        "    index = False,\n",
        "    if_exists = 'replace'\n",
        ")\n",
        "dane2 = pd.read_sql(\"select * from SHIPS5;\", engine) # podwójne sprawdzenie czy działa\n",
        "print(dane2) #sprawdzenie"
      ],
      "execution_count": null,
      "outputs": [
        {
          "output_type": "stream",
          "text": [
            "       Port  ...                  Nabrzeze\n",
            "0     PLGDN  ...     NAB. SZCZECIŃSKIE GTK\n",
            "1     PLGDN  ...              WESTERPLATTE\n",
            "2     PLGDN  ...     PRZEMYSŁOWE / WIŚLANE\n",
            "3     PLGDN  ...  OBROŃCÓW POCZTY POLSKIEJ\n",
            "4     PLGDN  ...              WESTERPLATTE\n",
            "...     ...  ...                       ...\n",
            "9995  PLGDN  ...        DCT -Przeładunkowe\n",
            "9996  PLGDN  ...        DCT -Przeładunkowe\n",
            "9997  PLGDN  ...         BPPP Stanowisko T\n",
            "9998  PLGDN  ...        DCT -Przeładunkowe\n",
            "9999  PLGDN  ...        DCT -Przeładunkowe\n",
            "\n",
            "[10000 rows x 12 columns]\n"
          ],
          "name": "stdout"
        }
      ]
    },
    {
      "cell_type": "code",
      "metadata": {
        "id": "L0_zlDCgJSUP",
        "colab_type": "code",
        "colab": {
          "base_uri": "https://localhost:8080/",
          "height": 257
        },
        "outputId": "e88f802b-3924-4206-d7b3-5834e9ec9124"
      },
      "source": [
        "#opisywanie kwerend\n",
        "#kwerenda do przetłumaczenia python > SQL df.groupby([\"Bandera\"])[\"Długość (metry)\"].mean().sort_values(ascending=True).head(10)\n",
        "#zadanie 1 : 1) Wg. przynależności państwowej statków, skąd są średnio najkrótsze statki, które wychodzą z portu Gdańsk? (Top 10 - bander z średnio najkrótszymi statkami)\n",
        "query1 = \"SELECT * FROM SHIPS5 GROUP BY Bandera ORDER BY AVG(DlugoscMetry) ASC LIMIT 10\"\n",
        "query = pd.read_sql(query1, engine)\n",
        "print(query)"
      ],
      "execution_count": null,
      "outputs": [
        {
          "output_type": "stream",
          "text": [
            "    Port  ...            Nabrzeze\n",
            "0  PLGDN  ...          Kapitanatu\n",
            "1  PLGDN  ...        Pirs Węglowy\n",
            "2  PLGDN  ...         PRZEMYSŁOWE\n",
            "3  PLGDN  ...                Brak\n",
            "4  PLGDN  ...    STOCZNIA GDANSKA\n",
            "5  PLGDN  ...            OLIWSKIE\n",
            "6  PLGDN  ...          Południowe\n",
            "7  PLGDN  ...        ELEWATOR 3/4\n",
            "8  PLGDN  ...  DCT -Przeładunkowe\n",
            "9  PLGDN  ...        ELEWATOR 3/4\n",
            "\n",
            "[10 rows x 12 columns]\n"
          ],
          "name": "stdout"
        }
      ]
    },
    {
      "cell_type": "code",
      "metadata": {
        "id": "LgsNwoz5JSK2",
        "colab_type": "code",
        "colab": {
          "base_uri": "https://localhost:8080/",
          "height": 257
        },
        "outputId": "04613a34-48c5-4378-d110-1bed51be8340"
      },
      "source": [
        "#opisywanie kwerend\n",
        "#kwerenda do przetłumaczenia python > SQL df.groupby([\"Bandera\"])[\"PojemnoscTony\"]].mean().sort_values(ascending=False).head(10)\n",
        "#zadanie 2 : 2) Wg. przynależności państwowej statków, jaka jest średnia ich pojemność brutto (tony)? (Top 10 - bander z średnio najemniejszą pojemnością statków)\n",
        "query2 = \"SELECT * FROM SHIPS5 GROUP BY Bandera ORDER BY AVG(PojemnoscTony) ASC LIMIT 10\"\n",
        "query = pd.read_sql(query2, engine)\n",
        "print(query)"
      ],
      "execution_count": null,
      "outputs": [
        {
          "output_type": "stream",
          "text": [
            "    Port  ...            Nabrzeze\n",
            "0  PLGDN  ...          Kapitanatu\n",
            "1  PLGDN  ...        Pirs Węglowy\n",
            "2  PLGDN  ...         PRZEMYSŁOWE\n",
            "3  PLGDN  ...    STOCZNIA GDANSKA\n",
            "4  PLGDN  ...            OLIWSKIE\n",
            "5  PLGDN  ...        ELEWATOR 3/4\n",
            "6  PLGDN  ...        ELEWATOR 3/4\n",
            "7  PLGDN  ...                Brak\n",
            "8  PLGDN  ...          Południowe\n",
            "9  PLGDN  ...  DCT -Przeładunkowe\n",
            "\n",
            "[10 rows x 12 columns]\n"
          ],
          "name": "stdout"
        }
      ]
    },
    {
      "cell_type": "markdown",
      "metadata": {
        "id": "lYLM3C-GkSLU",
        "colab_type": "text"
      },
      "source": [
        ""
      ]
    }
  ]
}